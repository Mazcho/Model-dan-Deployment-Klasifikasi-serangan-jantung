{
 "cells": [
  {
   "cell_type": "code",
   "execution_count": 3,
   "id": "e147152f",
   "metadata": {},
   "outputs": [],
   "source": [
    "import pandas as pd\n",
    "import numpy as np\n",
    "from sklearn import preprocessing\n",
    "from sklearn.model_selection import train_test_split\n",
    "from sklearn.metrics import classification_report\n",
    "from sklearn.ensemble import GradientBoostingClassifier\n",
    "import warnings\n",
    "warnings.filterwarnings(\"ignore\")"
   ]
  },
  {
   "cell_type": "code",
   "execution_count": 4,
   "id": "9ef58897",
   "metadata": {},
   "outputs": [],
   "source": [
    "df = pd.read_csv(\"Heart Attack.csv\")"
   ]
  },
  {
   "cell_type": "code",
   "execution_count": 5,
   "id": "ad7465f7",
   "metadata": {},
   "outputs": [],
   "source": [
    "labelencodercalss = preprocessing.LabelEncoder()\n",
    "df[\"class\"] = labelencodercalss.fit_transform(df[\"class\"])"
   ]
  },
  {
   "cell_type": "code",
   "execution_count": 6,
   "id": "a84f0181",
   "metadata": {},
   "outputs": [],
   "source": [
    "Q1 = df.quantile(0.25)\n",
    "Q3 = df.quantile(0.75)\n",
    "IQR = Q3-Q1\n",
    "\n",
    "lowerbound = Q1 - IQR *1.5\n",
    "upperbound = Q3 + IQR *1.5"
   ]
  },
  {
   "cell_type": "code",
   "execution_count": 7,
   "id": "9f6f7293",
   "metadata": {},
   "outputs": [],
   "source": [
    "df_no_outlier = df[~((df<lowerbound)|(df>upperbound)).any(axis=1)]"
   ]
  },
  {
   "cell_type": "code",
   "execution_count": 8,
   "id": "df802bb1",
   "metadata": {},
   "outputs": [
    {
     "data": {
      "text/plain": [
       "(789, 9)"
      ]
     },
     "execution_count": 8,
     "metadata": {},
     "output_type": "execute_result"
    }
   ],
   "source": [
    "df_no_outlier.shape"
   ]
  },
  {
   "cell_type": "code",
   "execution_count": 14,
   "id": "1f881512",
   "metadata": {},
   "outputs": [],
   "source": [
    "X = df_no_outlier.drop([\"class\"],axis=1)\n",
    "y = df_no_outlier[\"class\"]"
   ]
  },
  {
   "cell_type": "code",
   "execution_count": 15,
   "id": "5d3d4d11",
   "metadata": {},
   "outputs": [],
   "source": [
    "X_train,X_test,y_train,y_test = train_test_split(X,y,test_size=0.4)\n",
    "modelgbr = GradientBoostingClassifier()\n",
    "modelgbr.fit(X_train,y_train)\n",
    "predictiongbr = modelgbr.predict(X_test)"
   ]
  },
  {
   "cell_type": "code",
   "execution_count": 16,
   "id": "24f2c08d",
   "metadata": {},
   "outputs": [
    {
     "name": "stdout",
     "output_type": "stream",
     "text": [
      "              precision    recall  f1-score   support\n",
      "\n",
      "           0       0.98      0.99      0.99       173\n",
      "           1       0.99      0.98      0.99       143\n",
      "\n",
      "    accuracy                           0.99       316\n",
      "   macro avg       0.99      0.99      0.99       316\n",
      "weighted avg       0.99      0.99      0.99       316\n",
      "\n"
     ]
    }
   ],
   "source": [
    "print(classification_report(y_test,predictiongbr))"
   ]
  },
  {
   "cell_type": "code",
   "execution_count": 17,
   "id": "55e68194",
   "metadata": {},
   "outputs": [],
   "source": [
    "import pickle\n",
    "pickle.dump(modelgbr, open(\"model.pkl\",\"wb\"))"
   ]
  }
 ],
 "metadata": {
  "kernelspec": {
   "display_name": "Python 3 (ipykernel)",
   "language": "python",
   "name": "python3"
  },
  "language_info": {
   "codemirror_mode": {
    "name": "ipython",
    "version": 3
   },
   "file_extension": ".py",
   "mimetype": "text/x-python",
   "name": "python",
   "nbconvert_exporter": "python",
   "pygments_lexer": "ipython3",
   "version": "3.9.12"
  },
  "toc": {
   "base_numbering": 1,
   "nav_menu": {},
   "number_sections": true,
   "sideBar": true,
   "skip_h1_title": false,
   "title_cell": "Table of Contents",
   "title_sidebar": "Contents",
   "toc_cell": false,
   "toc_position": {},
   "toc_section_display": true,
   "toc_window_display": false
  },
  "varInspector": {
   "cols": {
    "lenName": 16,
    "lenType": 16,
    "lenVar": 40
   },
   "kernels_config": {
    "python": {
     "delete_cmd_postfix": "",
     "delete_cmd_prefix": "del ",
     "library": "var_list.py",
     "varRefreshCmd": "print(var_dic_list())"
    },
    "r": {
     "delete_cmd_postfix": ") ",
     "delete_cmd_prefix": "rm(",
     "library": "var_list.r",
     "varRefreshCmd": "cat(var_dic_list()) "
    }
   },
   "types_to_exclude": [
    "module",
    "function",
    "builtin_function_or_method",
    "instance",
    "_Feature"
   ],
   "window_display": false
  }
 },
 "nbformat": 4,
 "nbformat_minor": 5
}
